{
  "nbformat": 4,
  "nbformat_minor": 0,
  "metadata": {
    "colab": {
      "name": "exp 04 (LZW).ipynb",
      "provenance": [],
      "authorship_tag": "ABX9TyMtE/rz20/omh2xP5rjTMSI",
      "include_colab_link": true
    },
    "kernelspec": {
      "name": "python3",
      "display_name": "Python 3"
    }
  },
  "cells": [
    {
      "cell_type": "markdown",
      "metadata": {
        "id": "view-in-github",
        "colab_type": "text"
      },
      "source": [
        "<a href=\"https://colab.research.google.com/github/mahesh12-byte/dce-encryption/blob/master/exp_04_(LZW).ipynb\" target=\"_parent\"><img src=\"https://colab.research.google.com/assets/colab-badge.svg\" alt=\"Open In Colab\"/></a>"
      ]
    },
    {
      "cell_type": "code",
      "metadata": {
        "id": "_joXh0d4CjrN",
        "colab_type": "code",
        "colab": {}
      },
      "source": [
        ""
      ],
      "execution_count": 5,
      "outputs": []
    },
    {
      "cell_type": "code",
      "metadata": {
        "id": "hLIiLro5DOlv",
        "colab_type": "code",
        "colab": {}
      },
      "source": [
        ""
      ],
      "execution_count": 5,
      "outputs": []
    },
    {
      "cell_type": "code",
      "metadata": {
        "id": "AQoVB5WqDEEm",
        "colab_type": "code",
        "colab": {}
      },
      "source": [
        "def compress(uncompressed):\n",
        "    \"\"\"Compress a string to a list of output symbols.\"\"\"\n",
        " \n",
        "    # Build the dictionary.\n",
        "    dict_size = 256\n",
        "    dictionary = dict((chr(i), i) for i in range(dict_size))\n",
        "    # in Python 3: dictionary = {chr(i): i for i in range(dict_size)}\n",
        " \n",
        "    w = \"\"\n",
        "    result = []\n",
        "    for c in uncompressed:\n",
        "        wc = w + c\n",
        "        if wc in dictionary:\n",
        "            w = wc\n",
        "        else:\n",
        "            result.append(dictionary[w])\n",
        "            # Add wc to the dictionary.\n",
        "            dictionary[wc] = dict_size\n",
        "            dict_size += 1\n",
        "            w = c\n",
        " \n",
        "    # Output the code for w.\n",
        "    if w:\n",
        "        result.append(dictionary[w])\n",
        "    return result"
      ],
      "execution_count": 10,
      "outputs": []
    },
    {
      "cell_type": "code",
      "metadata": {
        "id": "m5sja2vTDWhn",
        "colab_type": "code",
        "colab": {}
      },
      "source": [
        "compressed=compress(\"AABAABBAAACDDAADDD\")"
      ],
      "execution_count": 13,
      "outputs": []
    },
    {
      "cell_type": "code",
      "metadata": {
        "id": "GHKS8DsEDRH7",
        "colab_type": "code",
        "colab": {
          "base_uri": "https://localhost:8080/",
          "height": 34
        },
        "outputId": "8f3140c8-f2bc-410b-b7e6-8937fbbc8bf2"
      },
      "source": [
        "print(compressed)"
      ],
      "execution_count": 14,
      "outputs": [
        {
          "output_type": "stream",
          "text": [
            "[65, 65, 66, 256, 66, 258, 256, 67, 68, 68, 256, 264, 68]\n"
          ],
          "name": "stdout"
        }
      ]
    },
    {
      "cell_type": "code",
      "metadata": {
        "id": "ekNpkQpgGA-b",
        "colab_type": "code",
        "colab": {}
      },
      "source": [
        "def decompress(compressed):\n",
        "    \"\"\"Decompress a list of output ks to a string.\"\"\"\n",
        "    from io import StringIO\n",
        " \n",
        "    # Build the dictionary.\n",
        "    dict_size = 256\n",
        "    dictionary = dict((i, chr(i)) for i in range(dict_size))\n",
        "    # in Python 3: dictionary = {i: chr(i) for i in range(dict_size)}\n",
        " \n",
        "    # use StringIO, otherwise this becomes O(N^2)\n",
        "    # due to string concatenation in a loop\n",
        "    result = StringIO()\n",
        "    w = chr(compressed.pop(0))\n",
        "    result.write(w)\n",
        "    for k in compressed:\n",
        "        if k in dictionary:\n",
        "            entry = dictionary[k]\n",
        "        elif k == dict_size:\n",
        "            entry = w + w[0]\n",
        "        else:\n",
        "            raise ValueError('Bad compressed k: %s' % k)\n",
        "        result.write(entry)\n",
        " \n",
        "        # Add w+entry[0] to the dictionary.\n",
        "        dictionary[dict_size] = w + entry[0]\n",
        "        dict_size += 1\n",
        " \n",
        "        w = entry\n",
        "    return result.getvalue()\n",
        "\n"
      ],
      "execution_count": 16,
      "outputs": []
    },
    {
      "cell_type": "code",
      "metadata": {
        "id": "3QahpMJxGrHS",
        "colab_type": "code",
        "colab": {}
      },
      "source": [
        "decompressed=decompress(compressed)"
      ],
      "execution_count": 17,
      "outputs": []
    },
    {
      "cell_type": "code",
      "metadata": {
        "id": "fUjFGw_tHAZ7",
        "colab_type": "code",
        "colab": {
          "base_uri": "https://localhost:8080/",
          "height": 34
        },
        "outputId": "8e90fa8c-414d-4689-de66-1de1b47b2e77"
      },
      "source": [
        "print(decompressed)"
      ],
      "execution_count": 18,
      "outputs": [
        {
          "output_type": "stream",
          "text": [
            "AABAABBAAACDDAADDD\n"
          ],
          "name": "stdout"
        }
      ]
    }
  ]
}