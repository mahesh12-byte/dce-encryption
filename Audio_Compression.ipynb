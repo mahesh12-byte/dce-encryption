{
  "nbformat": 4,
  "nbformat_minor": 0,
  "metadata": {
    "colab": {
      "name": "Audio Compression.ipynb",
      "provenance": [],
      "authorship_tag": "ABX9TyOncxKvFTfpfPOdINYdP8jU",
      "include_colab_link": true
    },
    "kernelspec": {
      "name": "python3",
      "display_name": "Python 3"
    }
  },
  "cells": [
    {
      "cell_type": "markdown",
      "metadata": {
        "id": "view-in-github",
        "colab_type": "text"
      },
      "source": [
        "<a href=\"https://colab.research.google.com/github/mahesh12-byte/dce-encryption-decryption/blob/master/Audio_Compression.ipynb\" target=\"_parent\"><img src=\"https://colab.research.google.com/assets/colab-badge.svg\" alt=\"Open In Colab\"/></a>"
      ]
    },
    {
      "cell_type": "code",
      "metadata": {
        "id": "krEjX8Obd9ay",
        "colab_type": "code",
        "colab": {
          "base_uri": "https://localhost:8080/",
          "height": 207
        },
        "outputId": "1ddf6ae2-9e02-43a2-97c0-0b84040f436d"
      },
      "source": [
        "!pip3 install simpleaudio"
      ],
      "execution_count": 1,
      "outputs": [
        {
          "output_type": "stream",
          "text": [
            "Collecting simpleaudio\n",
            "\u001b[?25l  Downloading https://files.pythonhosted.org/packages/94/1b/4dc29653733202b68c09d9c6ca085cf67ac54859ee860647ef21ac1ff3dc/simpleaudio-1.0.4.tar.gz (2.0MB)\n",
            "\u001b[K     |████████████████████████████████| 2.0MB 5.1MB/s \n",
            "\u001b[?25hBuilding wheels for collected packages: simpleaudio\n",
            "  Building wheel for simpleaudio (setup.py) ... \u001b[?25l\u001b[?25hdone\n",
            "  Created wheel for simpleaudio: filename=simpleaudio-1.0.4-cp36-cp36m-linux_x86_64.whl size=2063912 sha256=7c5e8bc09ad93f362ded89a833c6e478824aab2deaa77dcdfc1ee21eb081b823\n",
            "  Stored in directory: /root/.cache/pip/wheels/64/16/f5/74445bada9e7defeb1d1198d00f5f17f3519f633216b5c9267\n",
            "Successfully built simpleaudio\n",
            "Installing collected packages: simpleaudio\n",
            "Successfully installed simpleaudio-1.0.4\n"
          ],
          "name": "stdout"
        }
      ]
    },
    {
      "cell_type": "code",
      "metadata": {
        "id": "-Ecx156weI4B",
        "colab_type": "code",
        "colab": {
          "base_uri": "https://localhost:8080/",
          "height": 122
        },
        "outputId": "967c2d17-4846-48db-e77f-be8acc581f25"
      },
      "source": [
        "!pip3 install wavio"
      ],
      "execution_count": 2,
      "outputs": [
        {
          "output_type": "stream",
          "text": [
            "Collecting wavio\n",
            "  Downloading https://files.pythonhosted.org/packages/e6/98/8bf5ea39a3385cc806ba1146a280a113835e5df3b0ad25ca95eea8352040/wavio-0.0.4-py2.py3-none-any.whl\n",
            "Requirement already satisfied: numpy>=1.6.0 in /usr/local/lib/python3.6/dist-packages (from wavio) (1.18.5)\n",
            "Installing collected packages: wavio\n",
            "Successfully installed wavio-0.0.4\n"
          ],
          "name": "stdout"
        }
      ]
    },
    {
      "cell_type": "code",
      "metadata": {
        "id": "MtLmeJyPeOg9",
        "colab_type": "code",
        "colab": {}
      },
      "source": [
        "import numpy as np\n",
        " \n",
        "import wave\n",
        " \n",
        "import struct\n",
        " \n",
        "import matplotlib.pyplot as plt\n",
        " \n",
        "# frequency is the number of times a wave repeats a second\n",
        " \n",
        "frequency = 1000\n",
        " \n",
        "num_samples = 48000\n",
        " \n",
        "# The sampling rate of the analog to digital convert\n",
        " \n",
        "sampling_rate = 48000.0\n",
        " \n",
        "amplitude = 16000\n",
        " \n",
        "file = \"test.wav\""
      ],
      "execution_count": 4,
      "outputs": []
    },
    {
      "cell_type": "code",
      "metadata": {
        "id": "HmRmk01efJsE",
        "colab_type": "code",
        "colab": {}
      },
      "source": [
        "sine_wave = [np.sin(2 * np.pi * frequency * x/sampling_rate) for x in range(num_samples)]"
      ],
      "execution_count": 7,
      "outputs": []
    },
    {
      "cell_type": "code",
      "metadata": {
        "id": "-PNthuKUfSVK",
        "colab_type": "code",
        "colab": {}
      },
      "source": [
        "sine_wave = [np.sin(2 * np.pi * frequency * x/sampling_rate) for x in range(num_samples)]"
      ],
      "execution_count": 9,
      "outputs": []
    },
    {
      "cell_type": "code",
      "metadata": {
        "id": "uS5fHgirfYyX",
        "colab_type": "code",
        "colab": {}
      },
      "source": [
        "nframes=num_samples\n",
        " \n",
        "comptype=\"NONE\"\n",
        " \n",
        "compname=\"not compressed\"\n",
        " \n",
        "nchannels=1\n",
        " \n",
        "sampwidth=2"
      ],
      "execution_count": 11,
      "outputs": []
    },
    {
      "cell_type": "code",
      "metadata": {
        "id": "b-1CIlTkfeTu",
        "colab_type": "code",
        "colab": {}
      },
      "source": [
        "wav_file=wave.open(file, 'w')\n",
        " \n",
        "wav_file.setparams((nchannels, sampwidth, int(sampling_rate), nframes, comptype, compname))"
      ],
      "execution_count": 12,
      "outputs": []
    },
    {
      "cell_type": "code",
      "metadata": {
        "id": "fyFntRkofeYC",
        "colab_type": "code",
        "colab": {}
      },
      "source": [
        "for s in sine_wave:\n",
        "   wav_file.writeframes(struct.pack('h', int(s*amplitude)))"
      ],
      "execution_count": 14,
      "outputs": []
    },
    {
      "cell_type": "code",
      "metadata": {
        "id": "0YUEAzg3foWv",
        "colab_type": "code",
        "colab": {}
      },
      "source": [
        "import numpy as np\n",
        " \n",
        "import wave\n",
        " \n",
        "import struct\n",
        " \n",
        "import matplotlib.pyplot as plt\n",
        " \n",
        "# frequency is the number of times a wave repeats a second\n",
        " \n",
        "frequency = 2000\n",
        " \n",
        "num_samples = 4800\n",
        " \n",
        "# The sampling rate of the analog to digital convert\n",
        " \n",
        "sampling_rate = 4800\n",
        " \n",
        "amplitude = 8000\n",
        " \n",
        "file = \"test-1.wav\"\n"
      ],
      "execution_count": 15,
      "outputs": []
    },
    {
      "cell_type": "code",
      "metadata": {
        "id": "lQyImSF4gDdr",
        "colab_type": "code",
        "colab": {}
      },
      "source": [
        "sine_wave = [np.sin(2 * np.pi * frequency * x/sampling_rate) for x in range(num_samples)]"
      ],
      "execution_count": 16,
      "outputs": []
    },
    {
      "cell_type": "code",
      "metadata": {
        "id": "jDNvuj9xgL_N",
        "colab_type": "code",
        "colab": {}
      },
      "source": [
        "nframes=num_samples\n",
        " \n",
        "comptype=\"NONE\"\n",
        " \n",
        "compname=\"not compressed\"\n",
        " \n",
        "nchannels=1\n",
        " \n",
        "sampwidth=2"
      ],
      "execution_count": 17,
      "outputs": []
    },
    {
      "cell_type": "code",
      "metadata": {
        "id": "0vnN3Ft_gSHO",
        "colab_type": "code",
        "colab": {}
      },
      "source": [
        "wav_file1=wave.open(file, 'w')\n",
        " \n",
        "wav_file1.setparams((nchannels, sampwidth, int(sampling_rate), nframes, comptype, compname))"
      ],
      "execution_count": 19,
      "outputs": []
    },
    {
      "cell_type": "code",
      "metadata": {
        "id": "lWPXhVkMgbkI",
        "colab_type": "code",
        "colab": {}
      },
      "source": [
        "for s in sine_wave:\n",
        "   wav_file.writeframes(struct.pack('h', int(s*amplitude)))"
      ],
      "execution_count": 20,
      "outputs": []
    },
    {
      "cell_type": "code",
      "metadata": {
        "id": "f6CVl0qYgg8h",
        "colab_type": "code",
        "colab": {
          "base_uri": "https://localhost:8080/",
          "height": 292
        },
        "outputId": "762046e2-e6b5-4b8e-c63b-2d867179e9be"
      },
      "source": [
        "!pip install audiosegment"
      ],
      "execution_count": 21,
      "outputs": [
        {
          "output_type": "stream",
          "text": [
            "Collecting audiosegment\n",
            "  Downloading https://files.pythonhosted.org/packages/9f/78/2f062377cc32dbe8cbd74ede1e2cb26ec36350b83095b5a6e06cc6f9c251/audiosegment-0.23.0-py3-none-any.whl\n",
            "Requirement already satisfied: numpy in /usr/local/lib/python3.6/dist-packages (from audiosegment) (1.18.5)\n",
            "Collecting webrtcvad\n",
            "\u001b[?25l  Downloading https://files.pythonhosted.org/packages/89/34/e2de2d97f3288512b9ea56f92e7452f8207eb5a0096500badf9dfd48f5e6/webrtcvad-2.0.10.tar.gz (66kB)\n",
            "\r\u001b[K     |█████                           | 10kB 14.9MB/s eta 0:00:01\r\u001b[K     |██████████                      | 20kB 20.1MB/s eta 0:00:01\r\u001b[K     |██████████████▉                 | 30kB 15.9MB/s eta 0:00:01\r\u001b[K     |███████████████████▉            | 40kB 17.7MB/s eta 0:00:01\r\u001b[K     |████████████████████████▊       | 51kB 7.6MB/s eta 0:00:01\r\u001b[K     |█████████████████████████████▊  | 61kB 8.5MB/s eta 0:00:01\r\u001b[K     |████████████████████████████████| 71kB 4.8MB/s \n",
            "\u001b[?25hCollecting pydub\n",
            "  Downloading https://files.pythonhosted.org/packages/7b/d1/fbfa79371a8cd9bb15c2e3c480d7e6e340ed5cc55005174e16f48418333a/pydub-0.24.1-py2.py3-none-any.whl\n",
            "Building wheels for collected packages: webrtcvad\n",
            "  Building wheel for webrtcvad (setup.py) ... \u001b[?25l\u001b[?25hdone\n",
            "  Created wheel for webrtcvad: filename=webrtcvad-2.0.10-cp36-cp36m-linux_x86_64.whl size=71362 sha256=5b1e75b44d27db64fe9b957b649505d0a523b7b45c485642ff6892ad7f5d64f3\n",
            "  Stored in directory: /root/.cache/pip/wheels/44/2a/18/bd1aec41cac7c3051fe95d92a6ed446122ea31dc713c432fa1\n",
            "Successfully built webrtcvad\n",
            "Installing collected packages: webrtcvad, pydub, audiosegment\n",
            "Successfully installed audiosegment-0.23.0 pydub-0.24.1 webrtcvad-2.0.10\n"
          ],
          "name": "stdout"
        }
      ]
    },
    {
      "cell_type": "code",
      "metadata": {
        "id": "Bf02cd7fgrbJ",
        "colab_type": "code",
        "colab": {}
      },
      "source": [
        "from pydub import AudioSegment\n",
        "sound1 = AudioSegment.from_wav(\"test.wav\")\n",
        "sound2 = AudioSegment.from_wav(\"test-1.wav\")"
      ],
      "execution_count": 23,
      "outputs": []
    },
    {
      "cell_type": "code",
      "metadata": {
        "id": "h59yVkVqgx3a",
        "colab_type": "code",
        "colab": {}
      },
      "source": [
        "combined_sounds = sound1 + sound2"
      ],
      "execution_count": 25,
      "outputs": []
    },
    {
      "cell_type": "code",
      "metadata": {
        "id": "JltC5Lw6g6eQ",
        "colab_type": "code",
        "colab": {
          "base_uri": "https://localhost:8080/",
          "height": 34
        },
        "outputId": "2b23fdb3-459c-4f5a-a18f-db0e30b0185a"
      },
      "source": [
        "combined_sounds.export(\"combined.wav\", format=\"wav\")"
      ],
      "execution_count": 28,
      "outputs": [
        {
          "output_type": "execute_result",
          "data": {
            "text/plain": [
              "<_io.BufferedRandom name='combined.wav'>"
            ]
          },
          "metadata": {
            "tags": []
          },
          "execution_count": 28
        }
      ]
    }
  ]
}