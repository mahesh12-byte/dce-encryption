{
  "nbformat": 4,
  "nbformat_minor": 0,
  "metadata": {
    "colab": {
      "name": "lz78coding.ipynb",
      "provenance": [],
      "authorship_tag": "ABX9TyMJBXf51N1G5tW07xuUEaxG",
      "include_colab_link": true
    },
    "kernelspec": {
      "name": "python3",
      "display_name": "Python 3"
    }
  },
  "cells": [
    {
      "cell_type": "markdown",
      "metadata": {
        "id": "view-in-github",
        "colab_type": "text"
      },
      "source": [
        "<a href=\"https://colab.research.google.com/github/mahesh12-byte/dce-encryption-decryption/blob/master/lz78coding.ipynb\" target=\"_parent\"><img src=\"https://colab.research.google.com/assets/colab-badge.svg\" alt=\"Open In Colab\"/></a>"
      ]
    },
    {
      "cell_type": "code",
      "metadata": {
        "id": "-nYGjWOFmZYC",
        "colab_type": "code",
        "colab": {}
      },
      "source": [
        "def encodeLZ(FileIn, FileOut):\n",
        "    input_file = open(FileIn, 'r')\n",
        "    encoded_file = open(FileOut, 'w')\n",
        "    text_from_file = input_file.read()\n",
        "    dict_of_codes = {text_from_file[0]: '1'}\n",
        "    encoded_file.write('0' + text_from_file[0])\n",
        "    text_from_file = text_from_file[1:]\n",
        "    combination = ''\n",
        "    code = 2\n",
        "    for char in text_from_file:\n",
        "        combination += char\n",
        "        if combination not in dict_of_codes:\n",
        "            dict_of_codes[combination] = str(code)\n",
        "            if len(combination) == 1:\n",
        "                encoded_file.write('0' + combination)\n",
        "            else:\n",
        "                encoded_file.write(dict_of_codes[combination[0:-1]] + combination[-1])\n",
        "            code += 1\n",
        "            combination = ''\n",
        "    input_file.close()\n",
        "    encoded_file.close()\n",
        "    return True\n",
        "\n",
        "\n",
        "\n",
        "\n",
        "\n",
        "\n",
        "\n",
        "def decodeLZ(FileIn, FileOut):\n",
        "    coded_file = open(FileIn, 'r')\n",
        "    decoded_file = open(FileOut, 'w')\n",
        "    text_from_file = coded_file.read()\n",
        "    dict_of_codes = {'0': '', '1': text_from_file[1]}\n",
        "    decoded_file.write(dict_of_codes['1'])\n",
        "    text_from_file = text_from_file[2:]\n",
        "    combination = ''\n",
        "    code = 2\n",
        "    for char in text_from_file:\n",
        "        if char in '1234567890':\n",
        "            combination += char\n",
        "        else:\n",
        "            dict_of_codes[str(code)] = dict_of_codes[combination] + char\n",
        "            decoded_file.write(dict_of_codes[combination] + char)\n",
        "            combination = ''\n",
        "            code += 1\n",
        "    coded_file.close()\n",
        "    decoded_file.close()"
      ],
      "execution_count": 31,
      "outputs": []
    },
    {
      "cell_type": "code",
      "metadata": {
        "id": "hwjZpJnKnC1M",
        "colab_type": "code",
        "colab": {}
      },
      "source": [
        ""
      ],
      "execution_count": null,
      "outputs": []
    }
  ]
}